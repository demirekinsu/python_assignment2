{
 "cells": [
  {
   "cell_type": "code",
   "execution_count": 1,
   "id": "0f2cb429-dc59-4486-8640-ab4aff6c7e0b",
   "metadata": {},
   "outputs": [],
   "source": [
    "# Soru 1- sayı analizi"
   ]
  },
  {
   "cell_type": "code",
   "execution_count": 5,
   "id": "ac58b53d-717d-4c53-85e0-74505c10c5d6",
   "metadata": {},
   "outputs": [
    {
     "name": "stdin",
     "output_type": "stream",
     "text": [
      "Bir sayı giriniz:  23\n"
     ]
    },
    {
     "name": "stdout",
     "output_type": "stream",
     "text": [
      "Pozitif Tek\n"
     ]
    }
   ],
   "source": [
    "sayi = int(input(\"Bir sayı giriniz: \"))\n",
    "if sayi > 0  :\n",
    "    if sayi % 2 == 0:\n",
    "        print(\"Pozitif çift\")\n",
    "    else:\n",
    "        print(\"Pozitif Tek\")\n",
    "elif sayi < 0 :\n",
    "    if sayi % 2 == 0:\n",
    "        print(\"Negatif Çift\")\n",
    "    else:\n",
    "        print(\"Negatif Tek\")\n",
    "else:\n",
    "    print(\"Sıfır\")\n"
   ]
  },
  {
   "cell_type": "code",
   "execution_count": 7,
   "id": "849efb67-22bb-4b3f-979d-a79265413411",
   "metadata": {},
   "outputs": [],
   "source": [
    "# Soru 2 - Harf frekansı"
   ]
  },
  {
   "cell_type": "code",
   "execution_count": 9,
   "id": "cb349aaf-02c9-4788-8dab-7ea3798b5dd2",
   "metadata": {},
   "outputs": [
    {
     "name": "stdin",
     "output_type": "stream",
     "text": [
      "Bir kelime giriniz:  data\n"
     ]
    },
    {
     "name": "stdout",
     "output_type": "stream",
     "text": [
      "{'d': 1, 'a': 2, 't': 1}\n"
     ]
    }
   ],
   "source": [
    "kelime = input(\"Bir kelime giriniz: \")\n",
    "\n",
    "frekans = {}\n",
    "\n",
    "for harf in kelime:\n",
    "    if harf in frekans:\n",
    "        frekans[harf] += 1\n",
    "    else:\n",
    "        frekans[harf] = 1\n",
    "\n",
    "print(frekans)"
   ]
  },
  {
   "cell_type": "code",
   "execution_count": 11,
   "id": "8f0b35a1-7987-46c0-8400-6b9e206d997b",
   "metadata": {},
   "outputs": [],
   "source": [
    "# Soru 3 – Sifre Kontrolü (String Metotları)"
   ]
  },
  {
   "cell_type": "code",
   "execution_count": 13,
   "id": "896ccd31-2df4-4d2b-8cd0-b8ae9963ecd7",
   "metadata": {},
   "outputs": [
    {
     "name": "stdin",
     "output_type": "stream",
     "text": [
      "Şifrenizi giriniz:  Data9751\n"
     ]
    },
    {
     "name": "stdout",
     "output_type": "stream",
     "text": [
      "Şifre Geçerli\n"
     ]
    }
   ],
   "source": [
    "sifre = input(\"Şifrenizi giriniz: \")\n",
    "uzunluk = len(sifre) >= 8\n",
    "buyuk_harf = any(harf.isupper() for harf in sifre)\n",
    "rakam = any(harf.isdigit() for harf in sifre)\n",
    "\n",
    "if uzunluk and buyuk_harf and rakam:\n",
    "    print(\"Şifre Geçerli\")\n",
    "else:\n",
    "    print(\"Şifre Geçersiz.\")\n",
    "    if not uzunluk:\n",
    "        print(\"- En az 8 karakter olmalı:\")\n",
    "    if not  buyuk_harf:\n",
    "        print(\"- En az 1 büyük harf olmalı:\")\n",
    "    if not rakam:\n",
    "        print(\"- En az 1 rakam olmalı\")"
   ]
  },
  {
   "cell_type": "code",
   "execution_count": 15,
   "id": "c06db305-6844-4559-a154-0972c0c0f7b5",
   "metadata": {},
   "outputs": [],
   "source": [
    "#Soru 4 – Liste İşlemleri"
   ]
  },
  {
   "cell_type": "code",
   "execution_count": 17,
   "id": "8e48abac-b0a5-4fe1-9981-a31d5b0ac3f2",
   "metadata": {},
   "outputs": [
    {
     "name": "stdout",
     "output_type": "stream",
     "text": [
      "15.0\n",
      "Ortalamadan büyük sayılar:  [25, 30, 18]\n"
     ]
    }
   ],
   "source": [
    "liste = [12, 4, 9, 25, 30, 7, 18]\n",
    "ortalama = sum(liste) / len(liste)\n",
    "print(ortalama)\n",
    "\n",
    "buyuk_sayilar = []\n",
    "for l in liste:\n",
    "    if l > ortalama :\n",
    "        buyuk_sayilar.append(l)\n",
    "print(\"Ortalamadan büyük sayılar: \", buyuk_sayilar)"
   ]
  },
  {
   "cell_type": "code",
   "execution_count": 19,
   "id": "7c87a598-e3b9-46f6-9091-9999655d74f1",
   "metadata": {},
   "outputs": [],
   "source": [
    "# Soru 5 – Nested Loop (Desen)"
   ]
  },
  {
   "cell_type": "code",
   "execution_count": 21,
   "id": "66a9a0ba-f0f8-46d6-8e67-fe095f855e06",
   "metadata": {},
   "outputs": [
    {
     "name": "stdout",
     "output_type": "stream",
     "text": [
      "*\n",
      "**\n",
      "***\n",
      "****\n",
      "*****\n"
     ]
    }
   ],
   "source": [
    "for i in range(1, 6):\n",
    "    print(\"*\" * i)"
   ]
  },
  {
   "cell_type": "code",
   "execution_count": 23,
   "id": "c1fe6ef1-dc2d-408f-9f08-1017acf36251",
   "metadata": {},
   "outputs": [],
   "source": [
    "# Soru 6 – While Döngüsü"
   ]
  },
  {
   "cell_type": "code",
   "execution_count": 25,
   "id": "783f0296-b0c1-459a-a535-07ba6f907266",
   "metadata": {},
   "outputs": [
    {
     "name": "stdin",
     "output_type": "stream",
     "text": [
      "Bir sayı girin (0 çıkış için):  10\n",
      "Bir sayı girin (0 çıkış için):  25\n",
      "Bir sayı girin (0 çıkış için):  90\n",
      "Bir sayı girin (0 çıkış için):  54\n",
      "Bir sayı girin (0 çıkış için):  12\n",
      "Bir sayı girin (0 çıkış için):  0\n"
     ]
    },
    {
     "name": "stdout",
     "output_type": "stream",
     "text": [
      "Girilen sayıların toplamı: 191\n",
      "Girilen sayıların ortalaması: 38.2\n"
     ]
    }
   ],
   "source": [
    "toplam = 0\n",
    "adet = 0\n",
    "\n",
    "while True:\n",
    "    sayi = int(input(\"Bir sayı girin (0 çıkış için): \"))\n",
    "    if sayi == 0:\n",
    "        break\n",
    "    toplam += sayi\n",
    "    adet += 1\n",
    "if adet > 0:\n",
    "    ortalama = toplam / adet\n",
    "    print(\"Girilen sayıların toplamı:\", toplam)\n",
    "    print(\"Girilen sayıların ortalaması:\", ortalama)\n",
    "else:\n",
    "    print(\"Hiç sayı girilmedi.\")"
   ]
  },
  {
   "cell_type": "code",
   "execution_count": 29,
   "id": "91057ae1-62e1-417f-bff8-f4223dc12cb9",
   "metadata": {},
   "outputs": [],
   "source": [
    "#Soru 7 – Palindrom Kontrolü"
   ]
  },
  {
   "cell_type": "code",
   "execution_count": 31,
   "id": "eea755d6-6608-4322-bb18-75c4f1759bbe",
   "metadata": {},
   "outputs": [
    {
     "name": "stdin",
     "output_type": "stream",
     "text": [
      "Bir kelime giriniz:  data\n"
     ]
    },
    {
     "name": "stdout",
     "output_type": "stream",
     "text": [
      "data Palindrom Değil \n"
     ]
    }
   ],
   "source": [
    "kelime = input(\"Bir kelime giriniz: \")\n",
    "\n",
    "if kelime == kelime[::-1]:\n",
    "    print(kelime, \"Palindrom \")\n",
    "else:\n",
    "    print(kelime, \"Palindrom Değil \")"
   ]
  },
  {
   "cell_type": "code",
   "execution_count": 33,
   "id": "09306423-970a-4822-98f5-eaf1095ff641",
   "metadata": {},
   "outputs": [],
   "source": [
    "# Soru 8 - List Comprehension"
   ]
  },
  {
   "cell_type": "code",
   "execution_count": 35,
   "id": "dab250b2-8cf0-4649-90ef-dbe747c715d4",
   "metadata": {},
   "outputs": [
    {
     "name": "stdout",
     "output_type": "stream",
     "text": [
      "Hem 3'e hem 5'e bölünebilenlerin kareleri: [225, 900, 2025, 3600, 5625, 8100]\n"
     ]
    }
   ],
   "source": [
    "liste = [i**2 for i in range(1, 101) if i % 3 == 0 and i % 5 == 0]\n",
    "print(\"Hem 3'e hem 5'e bölünebilenlerin kareleri:\", liste)"
   ]
  },
  {
   "cell_type": "code",
   "execution_count": 37,
   "id": "ba3b08b6-8dba-49a8-8aab-0872a9f7e464",
   "metadata": {},
   "outputs": [],
   "source": [
    "# Soru 9 - String İşlemleri"
   ]
  },
  {
   "cell_type": "code",
   "execution_count": 39,
   "id": "a84991b9-8e71-4a22-ab14-8d8fd53f8cf3",
   "metadata": {},
   "outputs": [
    {
     "name": "stdout",
     "output_type": "stream",
     "text": [
      "Python Summer Camp\n"
     ]
    }
   ],
   "source": [
    "cumle = \"python summer camp \"\n",
    "kelimeler = cumle.split()\n",
    "yeni_kelimeler = [kelime.capitalize() for kelime in kelimeler]\n",
    "yeni_cumle = \" \".join(yeni_kelimeler)\n",
    "print(yeni_cumle)"
   ]
  },
  {
   "cell_type": "code",
   "execution_count": 41,
   "id": "87a2558a-bfc7-42e3-b81d-25664a653071",
   "metadata": {},
   "outputs": [],
   "source": [
    "# Mini Proje - Film Yorumu Analizi"
   ]
  },
  {
   "cell_type": "code",
   "execution_count": 43,
   "id": "380261ff-acb8-4bb7-84f4-7819a09ce913",
   "metadata": {},
   "outputs": [
    {
     "name": "stdout",
     "output_type": "stream",
     "text": [
      "Toplam yorum sayısı: 5\n",
      "\"iyi\" geçen yorum sayısı: 1\n",
      "En uzun yorum: Daha iyi olabilirdi\n",
      "En kısa yorum: İdare ederdi\n",
      "Ortalama uzunluk: 16.0 karakter\n"
     ]
    }
   ],
   "source": [
    "yorumlar = [\n",
    "    \"Filime aşık oldum\",\n",
    "    \"Hiç beğenmedim\",\n",
    "    \"İdare ederdi\",\n",
    "    \"Çok akıcıydı film \",\n",
    "    \"Daha iyi olabilirdi\"\n",
    "]\n",
    "\n",
    "print(\"Toplam yorum sayısı:\", len(yorumlar))\n",
    "iyi_sayisi = sum(\"iyi\" in y.lower() for y in yorumlar)\n",
    "print('\"iyi\" geçen yorum sayısı:', iyi_sayisi)\n",
    "en_uzun = max(yorumlar, key=len)\n",
    "en_kisa = min(yorumlar, key=len)\n",
    "print(\"En uzun yorum:\", en_uzun)\n",
    "print(\"En kısa yorum:\", en_kisa)\n",
    "uzunluklar = [len(y) for y in yorumlar]\n",
    "print(\"Ortalama uzunluk:\", sum(uzunluklar)/len(uzunluklar), \"karakter\")"
   ]
  },
  {
   "cell_type": "code",
   "execution_count": null,
   "id": "8d65d5e6-ab81-4ad2-8136-10a0672897b6",
   "metadata": {},
   "outputs": [],
   "source": []
  }
 ],
 "metadata": {
  "kernelspec": {
   "display_name": "Python 3 (ipykernel)",
   "language": "python",
   "name": "python3"
  },
  "language_info": {
   "codemirror_mode": {
    "name": "ipython",
    "version": 3
   },
   "file_extension": ".py",
   "mimetype": "text/x-python",
   "name": "python",
   "nbconvert_exporter": "python",
   "pygments_lexer": "ipython3",
   "version": "3.12.4"
  }
 },
 "nbformat": 4,
 "nbformat_minor": 5
}
